{
 "cells": [
  {
   "cell_type": "markdown",
   "metadata": {},
   "source": [
    "## Напишите функцию f(x), которая возвращает значение следующей функции, определённой на всей числовой прямой:\n",
    "# f(x)= система уравнений: 1−(x+2)**2  при x≤−2,  −x2 при  −2<x≤2,(x−2)2+1 при 2<x\n",
    "# Требуется реализовать только функцию, решение не должно осуществлять операций ввода-вывода."
   ]
  },
  {
   "cell_type": "code",
   "execution_count": null,
   "metadata": {},
   "outputs": [],
   "source": [
    "def f(x)\n",
    "if x <= - 2:\n",
    "    return(1 - (x + 2)**2)\n",
    "elif x > -2 and x <= 2:\n",
    "    return(-1 * (x / 2))\n",
    "else:\n",
    "    return(((x - 2)**2) + 1)"
   ]
  },
  {
   "cell_type": "markdown",
   "metadata": {},
   "source": [
    "# Напишите функцию modify_list(l), которая принимает на вход список целых чисел, удаляет из него все нечётные значения, а чётные нацело делит на два. Функция не должна ничего возвращать, требуется только изменение переданного списка"
   ]
  },
  {
   "cell_type": "code",
   "execution_count": null,
   "metadata": {},
   "outputs": [],
   "source": [
    "def modify_list(l):\n",
    "    new  = []\n",
    "    for i in range(len(l) - 1, -1, -1):\n",
    "        if l[i] % 2 == 0:\n",
    "            l[i] = l[i] / 2\n",
    "        else:\n",
    "            l.remove(l[i])\n",
    "    return l\n",
    "lst = [1, 2, 3, 4, 5, 6]\n",
    "print(modify_list(lst))  # None\n",
    "print(lst)\n",
    "modify_list(lst)\n",
    "print(lst)\n",
    " "
   ]
  },
  {
   "cell_type": "code",
   "execution_count": null,
   "metadata": {},
   "outputs": [],
   "source": [
    "def modify_list(l):\n",
    "    l[:] = [i//2 if i%2 == 0 for i in l]\n",
    "    return l\n",
    "a = [1, 2, 3, 4, 5]\n",
    "print(modify_list(a))"
   ]
  },
  {
   "cell_type": "markdown",
   "metadata": {},
   "source": [
    "# напиши мне такой генератор, \n",
    "# который будет отбирать из слова букву А и заменять её на О \n",
    "# если следующая буква не гласная"
   ]
  },
  {
   "cell_type": "code",
   "execution_count": null,
   "metadata": {},
   "outputs": [],
   "source": [
    "def change (x):\n",
    "    vowel = [\"a\", \"o\", \"u\", \"e\", \"i\"]\n",
    "    new = [\"o\" if i < len(x) - 1 and x[i] == \"a\" and x[i + 1]  not in vowel else x[i] for i in range(len(x)) ]\n",
    "    return new\n",
    "a = [\"a\", \"d\", \"a\", \"o\", \"d\", \"a\", \"a\"]\n",
    "print(change(a))"
   ]
  },
  {
   "cell_type": "markdown",
   "metadata": {},
   "source": [
    "# Напишите функцию update_dictionary(d, key, value), которая принимает на вход словарь d и два числа: key и value.\n",
    "# Если ключ key есть в словаре d, то добавьте значение value в список, который хранится по этому ключу. \n",
    "# Если ключа key нет в словаре, то нужно добавить значение в список по ключу 2⋅key. \n",
    "# Если и ключа 2⋅key нет, то нужно добавить ключ 2⋅key в словарь и сопоставить ему список из переданного элемента [value]."
   ]
  },
  {
   "cell_type": "code",
   "execution_count": null,
   "metadata": {},
   "outputs": [],
   "source": [
    "def update_dictionary(d, key, value):\n",
    "    if key  in d:\n",
    "        d[key].append(value)\n",
    "    elif key * 2 in d:\n",
    "        d[key * 2].append(value)\n",
    "        \n",
    "    else:\n",
    "        d[key * 2] = [value]\n",
    "    return d\n",
    "x = {}\n",
    "print(update_dictionary(x, 0, -5))\n",
    "print(x, x)\n",
    "update_dictionary(x, 1, -1)\n",
    "print(\"!\", x)\n",
    "update_dictionary(x, 2, -2)\n",
    "print(x)"
   ]
  },
  {
   "cell_type": "markdown",
   "metadata": {},
   "source": [
    "# Программа должна считывать одну строку со стандартного ввода\n",
    "# и выводить для каждого уникального слова в этой строке число \n",
    "# его повторений (без учёта регистра) в формате \"слово количество\""
   ]
  },
  {
   "cell_type": "code",
   "execution_count": null,
   "metadata": {},
   "outputs": [],
   "source": [
    "str = input().lower().split()\n",
    "count = {}\n",
    "for i in str:\n",
    "    if i in count:\n",
    "        count[i] += 1\n",
    "    else:\n",
    "        count[i] = 1\n",
    "for x in count:\n",
    "    print(x, count[x])\n",
    "\n"
   ]
  },
  {
   "cell_type": "markdown",
   "metadata": {},
   "source": [
    "## Напишите программу, которой на вход в первой строке подаётся число n\n",
    "## после чего сами эти n значений, каждое на отдельной строке. \n",
    "## Программа должна после каждого введённого значения аргумента \n",
    "## вывести соответствующие значения функции f на отдельной строке.\n",
    "## Для ускорения вычисления необходимо сохранять уже вычисленные значения функции при известных аргументах."
   ]
  },
  {
   "cell_type": "code",
   "execution_count": null,
   "metadata": {},
   "outputs": [],
   "source": [
    "def f(x):\n",
    "    return x\n",
    "\n",
    "n = int(input())\n",
    "d = {}\n",
    "i = 0\n",
    "while i < n:\n",
    "    x = int(input())\n",
    "    if x not in d:\n",
    "        d[x] = f(x)\n",
    "        print(d[x])\n",
    "    else:\n",
    "        print(d[x])\n",
    "    i += 1\n",
    "    "
   ]
  },
  {
   "cell_type": "code",
   "execution_count": 52,
   "metadata": {},
   "outputs": [],
   "source": [
    "new  = \"\"\n",
    "with open(\"text.txt\") as inf:\n",
    "    for i in inf:\n",
    "        s = i.strip()\n",
    "        s += \"a\"\n",
    "        letter = s[0]\n",
    "        num = \"\"\n",
    "        for i in range(len(s) - 1):\n",
    "            if s[i + 1].isalpha():\n",
    "                new += (letter * int(num))\n",
    "                letter = s[i + 1]\n",
    "                num =\"\"\n",
    "            else:\n",
    "                num += s[i + 1]\n",
    "with open(\"text.txt\", 'w') as ouf:\n",
    "    ouf.write(new)"
   ]
  },
  {
   "cell_type": "code",
   "execution_count": 50,
   "metadata": {},
   "outputs": [
    {
     "name": "stdout",
     "output_type": "stream",
     "text": [
      "a3b4c2e10b3a\n",
      "aaa\n",
      "bbbb\n",
      "cc\n",
      "eeeeeeeeee\n",
      "bbb\n"
     ]
    }
   ],
   "source": [
    "s = \"a3b4c2e10b3\"\n",
    "s += \"a\"\n",
    "print(s)\n",
    "letter = s[0]\n",
    "num = \"\"\n",
    "\n",
    "for i in range(len(s) - 1):\n",
    "    if s[i + 1].isalpha():\n",
    "        print(letter * int(num))\n",
    "        letter = s[i + 1]\n",
    "        num =\"\"\n",
    "    else:\n",
    "        num += s[i + 1]\n",
    "    "
   ]
  },
  {
   "cell_type": "code",
   "execution_count": 35,
   "metadata": {},
   "outputs": [],
   "source": [
    "with open(\"text.txt\") as inf:\n",
    "    with open(\"text.txt\", 'w') as ouf:\n",
    "        for i in inf:\n",
    "            s = i.strip()\n",
    "            ouf.write(s*2)"
   ]
  },
  {
   "cell_type": "code",
   "execution_count": null,
   "metadata": {},
   "outputs": [],
   "source": []
  }
 ],
 "metadata": {
  "kernelspec": {
   "display_name": "Python 3",
   "language": "python",
   "name": "python3"
  },
  "language_info": {
   "codemirror_mode": {
    "name": "ipython",
    "version": 3
   },
   "file_extension": ".py",
   "mimetype": "text/x-python",
   "name": "python",
   "nbconvert_exporter": "python",
   "pygments_lexer": "ipython3",
   "version": "3.7.0"
  }
 },
 "nbformat": 4,
 "nbformat_minor": 2
}
