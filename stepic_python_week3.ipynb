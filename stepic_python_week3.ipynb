{
 "cells": [
  {
   "cell_type": "markdown",
   "metadata": {},
   "source": [
    "## Напишите функцию f(x), которая возвращает значение следующей функции, определённой на всей числовой прямой:\n",
    "# f(x)= система уравнений: 1−(x+2)**2  при x≤−2,  −x2 при  −2<x≤2,(x−2)2+1 при 2<x\n",
    "# Требуется реализовать только функцию, решение не должно осуществлять операций ввода-вывода."
   ]
  },
  {
   "cell_type": "code",
   "execution_count": null,
   "metadata": {},
   "outputs": [],
   "source": [
    "def f(x)\n",
    "if x <= - 2:\n",
    "    return(1 - (x + 2)**2)\n",
    "elif x > -2 and x <= 2:\n",
    "    return(-1 * (x / 2))\n",
    "else:\n",
    "    return(((x - 2)**2) + 1)"
   ]
  },
  {
   "cell_type": "markdown",
   "metadata": {},
   "source": [
    "# Напишите функцию modify_list(l), которая принимает на вход список целых чисел, удаляет из него все нечётные значения, а чётные нацело делит на два. Функция не должна ничего возвращать, требуется только изменение переданного списка"
   ]
  },
  {
   "cell_type": "code",
   "execution_count": null,
   "metadata": {},
   "outputs": [],
   "source": [
    "def modify_list(l):\n",
    "    new  = []\n",
    "    for i in range(len(l) - 1, -1, -1):\n",
    "        if l[i] % 2 == 0:\n",
    "            l[i] = l[i] / 2\n",
    "        else:\n",
    "            l.remove(l[i])\n",
    "    return l\n",
    "lst = [1, 2, 3, 4, 5, 6]\n",
    "print(modify_list(lst))  # None\n",
    "print(lst)\n",
    "modify_list(lst)\n",
    "print(lst)\n",
    " "
   ]
  },
  {
   "cell_type": "code",
   "execution_count": null,
   "metadata": {},
   "outputs": [],
   "source": [
    "def modify_list(l):\n",
    "    l[:] = [i//2 if i%2 == 0 for i in l]\n",
    "    return l\n",
    "a = [1, 2, 3, 4, 5]\n",
    "print(modify_list(a))"
   ]
  },
  {
   "cell_type": "markdown",
   "metadata": {},
   "source": [
    "# напиши мне такой генератор, \n",
    "# который будет отбирать из слова букву А и заменять её на О \n",
    "# если следующая буква не гласная"
   ]
  },
  {
   "cell_type": "code",
   "execution_count": null,
   "metadata": {},
   "outputs": [],
   "source": [
    "def change (x):\n",
    "    vowel = [\"a\", \"o\", \"u\", \"e\", \"i\"]\n",
    "    new = [\"o\" if i < len(x) - 1 and x[i] == \"a\" and x[i + 1]  not in vowel else x[i] for i in range(len(x)) ]\n",
    "    return new\n",
    "a = [\"a\", \"d\", \"a\", \"o\", \"d\", \"a\", \"a\"]\n",
    "print(change(a))"
   ]
  },
  {
   "cell_type": "markdown",
   "metadata": {},
   "source": [
    "# Напишите функцию update_dictionary(d, key, value), которая принимает на вход словарь d и два числа: key и value.\n",
    "# Если ключ key есть в словаре d, то добавьте значение value в список, который хранится по этому ключу. \n",
    "# Если ключа key нет в словаре, то нужно добавить значение в список по ключу 2⋅key. \n",
    "# Если и ключа 2⋅key нет, то нужно добавить ключ 2⋅key в словарь и сопоставить ему список из переданного элемента [value]."
   ]
  },
  {
   "cell_type": "code",
   "execution_count": null,
   "metadata": {},
   "outputs": [],
   "source": [
    "def update_dictionary(d, key, value):\n",
    "    if key  in d:\n",
    "        d[key].append(value)\n",
    "    elif key * 2 in d:\n",
    "        d[key * 2].append(value)\n",
    "        \n",
    "    else:\n",
    "        d[key * 2] = [value]\n",
    "    return d\n",
    "x = {}\n",
    "print(update_dictionary(x, 0, -5))\n",
    "print(x, x)\n",
    "update_dictionary(x, 1, -1)\n",
    "print(\"!\", x)\n",
    "update_dictionary(x, 2, -2)\n",
    "print(x)"
   ]
  },
  {
   "cell_type": "markdown",
   "metadata": {},
   "source": [
    "# Программа должна считывать одну строку со стандартного ввода\n",
    "# и выводить для каждого уникального слова в этой строке число \n",
    "# его повторений (без учёта регистра) в формате \"слово количество\""
   ]
  },
  {
   "cell_type": "code",
   "execution_count": null,
   "metadata": {},
   "outputs": [],
   "source": [
    "str = input().lower().split()\n",
    "count = {}\n",
    "for i in str:\n",
    "    if i in count:\n",
    "        count[i] += 1\n",
    "    else:\n",
    "        count[i] = 1\n",
    "for x in count:\n",
    "    print(x, count[x])\n",
    "\n"
   ]
  },
  {
   "cell_type": "markdown",
   "metadata": {},
   "source": [
    "## Напишите программу, которой на вход в первой строке подаётся число n\n",
    "## после чего сами эти n значений, каждое на отдельной строке. \n",
    "## Программа должна после каждого введённого значения аргумента \n",
    "## вывести соответствующие значения функции f на отдельной строке.\n",
    "## Для ускорения вычисления необходимо сохранять уже вычисленные значения функции при известных аргументах."
   ]
  },
  {
   "cell_type": "code",
   "execution_count": null,
   "metadata": {},
   "outputs": [],
   "source": [
    "def f(x):\n",
    "    return x\n",
    "\n",
    "n = int(input())\n",
    "d = {}\n",
    "i = 0\n",
    "while i < n:\n",
    "    x = int(input())\n",
    "    if x not in d:\n",
    "        d[x] = f(x)\n",
    "        print(d[x])\n",
    "    else:\n",
    "        print(d[x])\n",
    "    i += 1\n",
    "    "
   ]
  },
  {
   "cell_type": "code",
   "execution_count": null,
   "metadata": {},
   "outputs": [],
   "source": [
    "## Напишите программу, которая считывает из файла строку, соответствующую тексту, сжатому с помощью кодирования повторов,\n",
    "## и производит обратную операцию, получая исходный текст."
   ]
  },
  {
   "cell_type": "code",
   "execution_count": null,
   "metadata": {},
   "outputs": [],
   "source": [
    "new  = \"\"\n",
    "with open(\"text.txt\") as inf:\n",
    "    for i in inf:\n",
    "        s = i.strip()\n",
    "        s += \"a\"\n",
    "        letter = s[0]\n",
    "        num = \"\"\n",
    "        for i in range(len(s) - 1):\n",
    "            if s[i + 1].isalpha():\n",
    "                new += (letter * int(num))\n",
    "                letter = s[i + 1]\n",
    "                num =\"\"\n",
    "            else:\n",
    "                num += s[i + 1]\n",
    "with open(\"text.txt\", 'w') as ouf:\n",
    "    ouf.write(new)"
   ]
  },
  {
   "cell_type": "code",
   "execution_count": null,
   "metadata": {},
   "outputs": [],
   "source": [
    "s = \"a3b4c2e10b3\"\n",
    "s += \"a\"\n",
    "print(s)\n",
    "letter = s[0]\n",
    "num = \"\"\n",
    "\n",
    "for i in range(len(s) - 1):\n",
    "    if s[i + 1].isalpha():\n",
    "        print(letter * int(num))\n",
    "        letter = s[i + 1]\n",
    "        num =\"\"\n",
    "    else:\n",
    "        num += s[i + 1]\n",
    "    "
   ]
  },
  {
   "cell_type": "code",
   "execution_count": null,
   "metadata": {},
   "outputs": [],
   "source": [
    "with open(\"text.txt\") as inf:\n",
    "    with open(\"text.txt\", 'w') as ouf:\n",
    "        for i in inf:\n",
    "            s = i.strip()\n",
    "            ouf.write(s*2)"
   ]
  },
  {
   "cell_type": "markdown",
   "metadata": {},
   "source": [
    "## Напишите программу, которая считывает текст из файла \n",
    "## (в файле может быть больше одной строки) и выводит самое частое слово в этом тексте\n",
    "## и через пробел то, сколько раз оно встретилось. Если таких слов несколько, \n",
    "## вывести лексикографически первое (можно использовать оператор < для строк)."
   ]
  },
  {
   "cell_type": "code",
   "execution_count": null,
   "metadata": {},
   "outputs": [],
   "source": [
    "import operator\n",
    "\n",
    "\n",
    "def takeFirst(elem):\n",
    "    return elem[0]\n",
    "\n",
    "\n",
    "d = {}\n",
    "with open(\"text.txt\") as inf:\n",
    "    for i in inf:\n",
    "        s = i.strip().split()\n",
    "        for j in s:\n",
    "            if j not in d:\n",
    "                d[j] = 1\n",
    "            else:\n",
    "                d[j] += 1\n",
    "\n",
    "sorted_d = sorted(d.items(), key=operator.itemgetter(1), reverse=True)\n",
    "print(type(sorted_d))\n",
    "print(sorted_d[0][0])\n",
    "\n",
    "new = []\n",
    "for i in range(len(sorted_d)):\n",
    "    if sorted_d[i][1] == sorted_d[0][1]:\n",
    "        new.append((sorted_d[i][0], sorted_d[i][1]))\n",
    "print(new)\n",
    "new.sort(key=takeFirst)\n",
    "a = \"\"\n",
    "a = str(new[0][0]) + \" \" + str(new[0][1])\n",
    "print(a)\n",
    "with open(\"text.txt\", 'w') as ouf:\n",
    "    ouf.write(a)\n"
   ]
  },
  {
   "cell_type": "markdown",
   "metadata": {},
   "source": [
    "## Имеется файл с данными по успеваемости абитуриентов. Он представляет из себя набор строк, \n",
    "## где в каждой строке записана следующая информация:\n",
    "## Фамилия;Оценка_по_математике;Оценка_по_физике;Оценка_по_русскому_языку\n",
    "## Поля внутри строки разделены точкой с запятой, оценки — целые числа.\n",
    "## Напишите программу, которая считывает файл с подобной структурой \n",
    "## и для каждого абитуриента выводит его среднюю оценку по этим трём предметам на отдельной строке, \n",
    "## соответствующей этому абитуриенту.\n",
    "## Также в конце файла, на отдельной строке, через пробел запишите средние баллы \n",
    "## по математике, физике и русскому языку по всем абитуриентам:"
   ]
  },
  {
   "cell_type": "code",
   "execution_count": null,
   "metadata": {},
   "outputs": [],
   "source": [
    "st =\"\"\n",
    "v1 = 0\n",
    "v2 = 0\n",
    "v3 = 0\n",
    "c = 0\n",
    "with open(\"text.txt\") as inf:\n",
    "    for i in inf:\n",
    "        s = i.strip().split(\";\")         \n",
    "        st += str((int(s[1]) + int(s[2]) + int(s[3])) / 3)\n",
    "        st += \"\\n\"        \n",
    "        v1 += int(s[1])\n",
    "        v2 += int(s[2])\n",
    "        v3 += int(s[3])\n",
    "        c += 1\n",
    "st += str(v1 / c) + \" \" + str(v2 / c)+ \" \" + str(v3 / c)\n",
    "\n",
    "#st=\"{} {} {}\".format(str(v1 / c), str(v2 / c), str(v3 / c))\n",
    "print(st)\n",
    "with open(\"text1.txt\", 'w') as ouf:\n",
    "    ouf.write(st)"
   ]
  },
  {
   "cell_type": "code",
   "execution_count": null,
   "metadata": {},
   "outputs": [],
   "source": [
    "lst = [[\"apple\", 55, 62], [\"orange\", 60, 74], [\"pineapple\", 140, 180], [\"lemon\", 80, 84]]\n",
    "print(\"!!!\")\n",
    "[print(el) for el in lst]\n",
    "[print((priceLow + priceHigh) / 2) for fruit, priceLow, priceHigh in lst]\n",
    "new = [((priceLow + priceHigh) / 2) for fruit, priceLow, priceHigh in lst]\n",
    "print(new)"
   ]
  },
  {
   "cell_type": "markdown",
   "metadata": {},
   "source": [
    "## Напишите программу, которая подключает модуль math и, используя значение числа π из этого модуля, \n",
    "## находит для переданного ей на стандартный ввод радиуса круга \n",
    "## периметр этого круга и выводит его на стандартный вывод."
   ]
  },
  {
   "cell_type": "code",
   "execution_count": null,
   "metadata": {},
   "outputs": [],
   "source": [
    "import math\n",
    "r = float(input())\n",
    "print(2 * r * math.pi)"
   ]
  },
  {
   "cell_type": "markdown",
   "metadata": {},
   "source": [
    "## Напишите программу, которая запускается из консоли и печатает значения всех переданных аргументов на экран\n",
    "## (имя скрипта выводить не нужно). Не изменяйте порядок аргументов при выводе."
   ]
  },
  {
   "cell_type": "code",
   "execution_count": null,
   "metadata": {},
   "outputs": [],
   "source": [
    "import sys\n",
    "for i in sys.argv[1:]:\n",
    "    print(i)"
   ]
  },
  {
   "cell_type": "markdown",
   "metadata": {},
   "source": [
    "### Скачайте файл. В нём указан адрес другого файла, который нужно скачать \n",
    "### с использованием модуля requests и посчитать число строк в нём."
   ]
  },
  {
   "cell_type": "code",
   "execution_count": null,
   "metadata": {},
   "outputs": [],
   "source": [
    "import requests\n",
    "ur = \"\"\n",
    "with open(\"text.txt\") as inf:\n",
    "    for i in inf:\n",
    "        ur += i.strip()\n",
    "print(ur)        \n",
    "response = requests.get(ur).text\n",
    "print(response)\n",
    "print(len(response.splitlines()))\n"
   ]
  },
  {
   "cell_type": "markdown",
   "metadata": {},
   "source": [
    "### Имеется набор файлов, каждый из которых, кроме последнего, содержит имя следующего файла.\n",
    "### Первое слово в тексте последнего файла: \"We\".\n",
    "### Скачайте предложенный файл. В нём содержится ссылка на первый файл из этого набора.\n",
    "### Все файлы располагаются в каталоге по адресу:\n",
    "### https://stepic.org/media/attachments/course67/3.6.3/\n",
    "### Загрузите содержимое последнего файла из набора, как ответ на это задание."
   ]
  },
  {
   "cell_type": "code",
   "execution_count": null,
   "metadata": {},
   "outputs": [],
   "source": [
    "import requests\n",
    "\n",
    "\n",
    "def reading(t):\n",
    "    i = 0\n",
    "    a = \"https://stepic.org/media/attachments/course67/3.6.3/\"\n",
    "    response = requests.get(t).text\n",
    "    t = response.split()\n",
    "    if t[0] == \"We\":\n",
    "        return response\n",
    "    else:\n",
    "        response = a + str(response)    \n",
    "        return reading(response)\n",
    "\n",
    "    \n",
    "ur = \"\"\n",
    "with open(\"text.txt\") as inf:\n",
    "    for i in inf:\n",
    "        ur = i.strip()\n",
    "print(ur)\n",
    "\n",
    "b = reading(ur)\n",
    "print(b)\n",
    "with open(\"text1.txt\", 'w') as ouf:\n",
    "    ouf.write(b)\n",
    "    \n",
    "#response = requests.get(ur).text\n",
    "#print(response)"
   ]
  },
  {
   "cell_type": "markdown",
   "metadata": {},
   "source": [
    "### Напишите программу, которая принимает на стандартный вход список игр футбольных команд с результатом матча\n",
    "### и выводит на стандартный вывод сводную таблицу результатов всех матчей.\n",
    "### За победу команде начисляется 3 очка, за поражение — 0, за ничью — 1.\n",
    "### Формат ввода следующий:\n",
    "### В первой строке указано целое число n — количество завершенных игр.\n",
    "### После этого идет n строк, в которых записаны результаты игры в следующем формате:\n",
    "### Первая_команда;Забито_первой_командой;Вторая_команда;Забито_второй_командой\n",
    "### Вывод программы необходимо оформить следующим образом:\n",
    "### Команда:Всего_игр Побед Ничьих Поражений Всего_очков"
   ]
  },
  {
   "cell_type": "code",
   "execution_count": null,
   "metadata": {},
   "outputs": [],
   "source": [
    "def scores(str):\n",
    "    a, b, c, d = str[0], int(str[1]), str[2], int(str[3])\n",
    "    if b > d:\n",
    "        return [(a, 3),(c, 0)]\n",
    "    elif b < d:\n",
    "        return [(a, 0),(c, 3)]\n",
    "    else:\n",
    "        return [(a, 1),(c, 1)]\n",
    "\n",
    "    \n",
    "def rating(sc):\n",
    "    if sc == 3:\n",
    "        return [1, 1, 0 , 0, 3]\n",
    "    elif sc == 1:\n",
    "        return [1, 0, 1, 0, 1]\n",
    "    else:\n",
    "        return [1, 0, 0, 1, 0]\n",
    "\n",
    "commands = {}\n",
    "n =  int(input())\n",
    "for i in range(n):\n",
    "    a = input().split(\";\")\n",
    "    temp = scores(a)\n",
    "    team1 = temp[0][0]\n",
    "    team2 = temp[1][0]\n",
    "    score1 = temp[0][1]\n",
    "    score2 = temp[1][1]\n",
    "    if team1 not in commands:\n",
    "        commands[team1] = rating(score1)\n",
    "    else:\n",
    "        commands[team1] = [commands[team1][i] + rating(score1)[i] for i in range(len(commands[team1]))]\n",
    "    if team2 not in commands:\n",
    "        commands[team2] = rating(score2)\n",
    "    else:\n",
    "        commands[team2] = [commands[team2][i] + rating(score2)[i] for i in range(len(commands[team2]))]\n",
    "\n",
    "for key, value in commands.items():\n",
    "    print(\"{}:{}\".format(key, \" \".join(str(v) for v in value)))\n"
   ]
  },
  {
   "cell_type": "markdown",
   "metadata": {},
   "source": [
    "Напишите программу, которая умеет шифровать и расшифровывать шифр подстановки. \n",
    "Программа принимает на вход две строки одинаковой длины, \n",
    "на первой строке записаны символы исходного алфавита, \n",
    "на второй строке — символы конечного алфавита, \n",
    "после чего идёт строка, которую нужно зашифровать переданным ключом, \n",
    "и ещё одна строка, которую нужно расшифровать."
   ]
  },
  {
   "cell_type": "code",
   "execution_count": null,
   "metadata": {},
   "outputs": [],
   "source": [
    "st = input()\n",
    "code = input()\n",
    "dic = {key: value for key, value in zip(st, code)}\n",
    "print(dic)\n",
    "new_st = input()\n",
    "new_code = input()\n",
    "out_str = []\n",
    "out_code = []\n",
    "for i in new_st:\n",
    "    out_str.append(dic[i])\n",
    "temp = dict(zip(dic.values(), dic.keys()))\n",
    "for j in new_code:\n",
    "    out_code.append(temp[j])\n",
    "print(\"\".join(out_str))\n",
    "print(\"\".join(out_code))"
   ]
  },
  {
   "cell_type": "code",
   "execution_count": null,
   "metadata": {},
   "outputs": [],
   "source": [
    "x = ['a','b','c']\n",
    "y = ['1','2','3']\n",
    "#будет сгенерирован список в виде [('a', 'e'), ('b', 'f'), ('c', 'g')]\n",
    "d = {key:value for key,value in zip(x,y)}\n",
    "print(d)\n",
    "t = dict(zip(d.values(), d.keys()))\n",
    "print(t)"
   ]
  },
  {
   "cell_type": "markdown",
   "metadata": {},
   "source": [
    "Через стандартный ввод подаётся следующая структура: \n",
    "    первой строкой — количество d записей в списке известных слов, \n",
    "    после передаётся  d строк с одним словарным словом на строку, \n",
    "    затем — количество l строк текста, после чего — l строк текста.\n",
    "Напишите программу, которая выводит слова из текста, которые не встречаются в словаре. \n",
    "Регистр слов не учитывается. Порядок вывода слов произвольный. \n",
    "Слова, не встречающиеся в словаре, не должны повторяться в выводе программы."
   ]
  },
  {
   "cell_type": "code",
   "execution_count": null,
   "metadata": {},
   "outputs": [],
   "source": [
    "#dic = {input().lower() for i in range(int(input()))}\n",
    "n = int(input())\n",
    "dic = []\n",
    "for i in range(n):\n",
    "    dic.append(input().lower())\n",
    "num = int(input())\n",
    "words = []\n",
    "for j in range(num):\n",
    "    words += (input().split())\n",
    "new = []\n",
    "new = [(x) for x in words if x.lower() not in dic]\n",
    "for j in set(new):\n",
    "    print(j, end=\"\\n\")\n"
   ]
  },
  {
   "cell_type": "markdown",
   "metadata": {},
   "source": [
    "Группа биологов в институте биоинформатики завела себе черепашку.\n",
    "После дрессировки черепашка научилась понимать и запоминать указания биологов следующего вида:\n",
    "север 10\n",
    "запад 20\n",
    "юг 30\n",
    "восток 40\n",
    "где первое слово — это направление, в котором должна двигаться черепашка, \n",
    "а число после слова — это положительное расстояние в сантиметрах, которое должна пройти черепашка.\n",
    "Но команды даются быстро, а черепашка ползёт медленно, и программисты догадались, \n",
    "что можно написать программу, которая определит, куда в итоге биологи приведут черепашку. \n",
    "Для этого программисты просят вас написать программу, которая выведет точку, \n",
    "в которой окажется черепашка после всех команд. \n",
    "Для простоты они решили считать, что движение начинается в точке (0, 0), \n",
    "и движение на восток увеличивает первую координату, а на север — вторую.\n",
    "Программе подаётся на вход число команд n, которые нужно выполнить черепашке, \n",
    "после чего n строк с самими командами. \n",
    "Вывести нужно два числа в одну строку: \n",
    "    первую и вторую координату конечной точки черепашки. Все координаты целочисленные.\n",
    "\n"
   ]
  },
  {
   "cell_type": "code",
   "execution_count": null,
   "metadata": {},
   "outputs": [],
   "source": [
    "x = 0\n",
    "y = 0\n",
    "for i in range(int(input())):\n",
    "    t = input().split()\n",
    "    if t[0] == \"восток\":\n",
    "        x += int(t[1])\n",
    "    elif t[0] == \"запад\":\n",
    "        x -= int(t[1])\n",
    "    elif t[0] == \"север\":\n",
    "        y += int(t[1])\n",
    "    else:\n",
    "        y -= int(t[1])\n",
    "print(x, y)"
   ]
  },
  {
   "cell_type": "code",
   "execution_count": null,
   "metadata": {},
   "outputs": [],
   "source": [
    "cor = {'север': 0, 'восток': 0, 'юг': 0, 'запад': 0}\n",
    "\n",
    "for i in range(int(input())):\n",
    "    s = [j for j in input().split()]\n",
    "    cor[s[0]] += int(s[1])\n",
    "\n",
    "print(cor['восток']-cor['запад'], cor['север']-cor['юг'])"
   ]
  },
  {
   "cell_type": "markdown",
   "metadata": {},
   "source": [
    "Дан файл с таблицей в формате TSV с информацией о росте школьников разных классов.\n",
    "Напишите программу, которая прочитает этот файл и подсчитает для каждого класса средний рост учащегося.\n",
    "Файл состоит из набора строк, каждая из которых представляет собой три поля:\n",
    "Класс Фамилия Рост\n",
    "Класс обозначается только числом. Буквенные модификаторы не используются. \n",
    "Номер класса может быть от 1 до 11 включительно. \n",
    "В фамилии нет пробелов, а в качестве роста используется натуральное число, \n",
    "но при подсчёте среднего требуется вычислить значение в виде вещественного числа.\n",
    "Выводить информацию о среднем росте следует в порядке возрастания номера класса \n",
    "(для классов с первого по одиннадцатый). Если про какой-то класс нет информации, необходимо вывести напротив него прочерк"
   ]
  },
  {
   "cell_type": "code",
   "execution_count": 9,
   "metadata": {},
   "outputs": [
    {
     "name": "stdout",
     "output_type": "stream",
     "text": [
      "spisok {1: (996, 8), 2: (1833, 14), 3: (1355, 10), 4: (1668, 12), 5: (1577, 11), 6: (771, 5), 7: (801, 5), 8: (1813, 11), 9: (1352, 8), 10: (2724, 16), 11: (1918, 11)}\n",
      "new_list [(1, 124.5), (2, 130.92857142857142), (3, 135.5), (4, 139.0), (5, 143.36363636363637), (6, 154.2), (7, 160.2), (8, 164.8181818181818), (9, 169.0), (10, 170.25), (11, 174.36363636363637)]\n",
      "1 124.5\n",
      "2 130.92857142857142\n",
      "3 135.5\n",
      "4 139.0\n",
      "5 143.36363636363637\n",
      "6 154.2\n",
      "7 160.2\n",
      "8 164.8181818181818\n",
      "9 169.0\n",
      "10 170.25\n",
      "11 174.36363636363637\n"
     ]
    }
   ],
   "source": [
    "spisok = {}\n",
    "for i in range(1, 12):\n",
    "    spisok[i] = [0, 0]\n",
    "with open(\"text.txt\") as incom:\n",
    "    for i in incom:\n",
    "        clas, hight = int(i.split()[0]), int(i.split()[2])\n",
    "        spisok[clas] = spisok[clas][0] + hight, spisok[clas][1] + 1\n",
    "print(\"spisok\", spisok)\n",
    "new_list=[]\n",
    "for j in spisok:\n",
    "    if spisok[j][0] == 0:\n",
    "        new_list.append((j, '-'))\n",
    "    else:\n",
    "        new_list.append((j, spisok[j][0]/spisok[j][1]))\n",
    "print(\"new_list\", new_list)\n",
    "for t in new_list:\n",
    "    print(t[0], t[1])"
   ]
  },
  {
   "cell_type": "code",
   "execution_count": null,
   "metadata": {},
   "outputs": [],
   "source": [
    "rr = {\"a\":1, \"b\":2}\n",
    "for i in rr:\n",
    "    print(i)"
   ]
  },
  {
   "cell_type": "code",
   "execution_count": null,
   "metadata": {},
   "outputs": [],
   "source": []
  }
 ],
 "metadata": {
  "kernelspec": {
   "display_name": "Python 3",
   "language": "python",
   "name": "python3"
  },
  "language_info": {
   "codemirror_mode": {
    "name": "ipython",
    "version": 3
   },
   "file_extension": ".py",
   "mimetype": "text/x-python",
   "name": "python",
   "nbconvert_exporter": "python",
   "pygments_lexer": "ipython3",
   "version": "3.7.0"
  }
 },
 "nbformat": 4,
 "nbformat_minor": 2
}
