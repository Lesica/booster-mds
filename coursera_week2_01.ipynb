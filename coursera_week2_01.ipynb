{
 "cells": [
  {
   "cell_type": "markdown",
   "metadata": {},
   "source": [
    "## Задача 1: сравнение предложений\n",
    "Дан набор предложений, скопированных с Википедии. Каждое из них имеет \"кошачью тему\" в одном из трех смыслов:\n",
    "\n",
    "кошки (животные)\n",
    "UNIX-утилита cat для вывода содержимого файлов\n",
    "версии операционной системы OS X, названные в честь семейства кошачьих\n",
    "Ваша задача — найти два предложения, которые ближе всего по смыслу к расположенному в самой первой строке. В качестве меры близости по смыслу мы будем использовать косинусное расстояние."
   ]
  },
  {
   "cell_type": "markdown",
   "metadata": {},
   "source": [
    "Скачайте файл с предложениями (sentences.txt).\n",
    "Каждая строка в файле соответствует одному предложению. Считайте их, приведите каждую к нижнему регистру с помощью строковой функции lower()."
   ]
  },
  {
   "cell_type": "code",
   "execution_count": 2,
   "metadata": {},
   "outputs": [],
   "source": [
    "import re \n",
    "import numpy as np\n",
    "import collections\n",
    "f = open(\"sentences.txt\", \"r\")\n",
    "a = []\n",
    "for line in f:\n",
    "    a.append(re.split(\"[^a-z]\", line.lower()))\n"
   ]
  },
  {
   "cell_type": "markdown",
   "metadata": {},
   "source": [
    "Произведите токенизацию, то есть разбиение текстов на слова. Для этого можно воспользоваться регулярным выражением, которое считает разделителем любой символ, не являющийся буквой: re.split('[^a-z]', t). Не забудьте удалить пустые слова после разделения.\n",
    "Составьте список всех слов, встречающихся в предложениях. Сопоставьте каждому слову индекс от нуля до (d - 1), где d — число различных слов в предложениях. Для этого удобно воспользоваться структурой dict."
   ]
  },
  {
   "cell_type": "code",
   "execution_count": 3,
   "metadata": {
    "scrolled": true
   },
   "outputs": [
    {
     "name": "stdout",
     "output_type": "stream",
     "text": [
      "{'output': 0, 'closest': 1, 'their': 2, 'high': 3, 'genus': 4, 'binary': 5, 'intel': 6, 'editions': 7, 'two': 8, 'an': 9, 'will': 10, 'entirely': 11, 'process': 12, 'upgrade': 13, 'received': 14, 'dogs': 15, 'named': 16, 'just': 17, 'place': 18, 'versions': 19, 'in': 20, 'installed': 21, 'wrong': 22, 'mavericks': 23, 'file': 24, 's': 25, 'roughly': 26, 'other': 27, 'major': 28, 'if': 29, 'for': 30, 'often': 31, 'released': 32, 'successor': 33, 'or': 34, 't': 35, 'stdout': 36, 'are': 37, 'can': 38, 'drive': 39, 'too': 40, 'apple': 41, 'more': 42, 'read': 43, 'external': 44, 'sounds': 45, 'linux': 46, 'release': 47, 'community': 48, 'animals': 49, 'since': 50, 'cats': 51, 'marks': 52, 'it': 53, 'mountain': 54, 'most': 55, 'processors': 56, 'artificial': 57, 'between': 58, 'contains': 59, 'predecessor': 60, 'starting': 61, 'one': 62, 'allow': 63, 'developed': 64, 'frequency': 65, 'download': 66, 'moved': 67, 'terms': 68, 'members': 69, 'learned': 70, 'both': 71, 'tiger': 72, 'purchase': 73, 'be': 74, 'create': 75, 'some': 76, 'x': 77, 'recent': 78, 'use': 79, 'selection': 80, 'the': 81, 'no': 82, 'to': 83, 'allows': 84, 'is': 85, 'permanently': 86, 'patch': 87, 'started': 88, 'displays': 89, 'concatenate': 90, 'ancestor': 91, 'unix': 92, 'through': 93, 'need': 94, 'kg': 95, 'instead': 96, 'osx': 97, 'weighing': 98, 'its': 99, 'common': 100, 'needing': 101, 'symbols': 102, 'later': 103, 'small': 104, 'now': 105, 'october': 106, 'count': 107, 'july': 108, 'any': 109, 'lb': 110, 'basic': 111, 'useful': 112, 'adjacent': 113, 'a': 114, 'delete': 115, 'also': 116, 'files': 117, 'deliberately': 118, 'organisms': 119, 'disk': 120, 'store': 121, 'mid': 122, 'every': 123, 'three': 124, 'mice': 125, 'version': 126, 'has': 127, 'by': 128, 'flow': 129, 'enhancements': 130, 'running': 131, 'domesticated': 132, 'left': 133, 'than': 134, 'over': 135, 'off': 136, 'redirection': 137, 'bytes': 138, 'domestication': 139, 'changes': 140, 'simply': 141, 'incremental': 142, 'lion': 143, 'time': 144, 'not': 145, 'predators': 146, 'concern': 147, 'with': 148, 'non': 149, 'possess': 150, 'sequence': 151, 'so': 152, 'have': 153, 'using': 154, 'releases': 155, 'firmware': 156, 'during': 157, 'factory': 158, 'arguments': 159, 'won': 160, 'those': 161, 'update': 162, 'single': 163, 'pipes': 164, 'human': 165, 'interactive': 166, 'receives': 167, 'similar': 168, 'lines': 169, 'os': 170, 'part': 171, 'second': 172, 'safari': 173, 'however': 174, 'yosemite': 175, 'domestic': 176, 'switch': 177, 'faint': 178, 'based': 179, 'was': 180, 'hear': 181, 'app': 182, 'mac': 183, 'installs': 184, 'legibility': 185, 'content': 186, 'keyboards': 187, 'where': 188, 'type': 189, 'offered': 190, 'redirected': 191, 'from': 192, 'which': 193, 'were': 194, 'command': 195, 'may': 196, 'according': 197, 'made': 198, 'when': 199, 'catenates': 200, 'diploid': 201, 'cat': 202, 'standard': 203, 'ears': 204, 'and': 205, 'unnecessary': 206, 'rather': 207, 'available': 208, 'online': 209, 'tamed': 210, 'new': 211, 'world': 212, 'used': 213, 'on': 214, 'without': 215, 'you': 216, 'releasing': 217, 'year': 218, 'information': 219, 'safer': 220, 'felis': 221, 'run': 222, 'leopard': 223, 'that': 224, 'separate': 225, 'undergone': 226, 'typically': 227, 'comparison': 228, 'streams': 229, 'genes': 230, 'error': 231, 'installation': 232, 'such': 233, 'of': 234, 'stdin': 235, 'size': 236, 'default': 237, 'fifth': 238, 'features': 239, 'chromosomes': 240, 'computers': 241, 'longer': 242, 'vermin': 243, 'people': 244, 'connected': 245, 'commands': 246, 'right': 247, 'piped': 248, 'clear': 249, 'as': 250, 'they': 251, 'symbol': 252, 'wild': 253}\n"
     ]
    }
   ],
   "source": [
    "allwords = set()\n",
    "for sentence in a:\n",
    "    allwords.update(sentence)\n",
    "allwords.remove(\"\")\n",
    "#print(len(allwords), allwords)\n",
    "wordindex = {}\n",
    "c  = 0\n",
    "for i in allwords:\n",
    "    wordindex[i] = c\n",
    "    c +=1\n",
    "print(wordindex)\n",
    "    "
   ]
  },
  {
   "cell_type": "markdown",
   "metadata": {},
   "source": [
    "Создайте матрицу размера n * d, где n — число предложений. Заполните ее: элемент с индексом (i, j) в этой матрице должен быть равен количеству вхождений j-го слова в i-е предложение. У вас должна получиться матрица размера 22 * 254."
   ]
  },
  {
   "cell_type": "code",
   "execution_count": 5,
   "metadata": {},
   "outputs": [
    {
     "name": "stdout",
     "output_type": "stream",
     "text": [
      "(22, 254)\n",
      "254 22\n",
      "[0. 0. 0. 0. 0. 0. 0. 0. 0. 0. 0. 0. 1. 0. 0. 1. 0. 0. 0. 0. 1. 0. 0. 0.\n",
      " 0. 0. 0. 0. 1. 0. 0. 0. 0. 0. 0. 0. 0. 0. 0. 0. 0. 0. 0. 0. 0. 0. 0. 0.\n",
      " 0. 0. 0. 1. 0. 0. 0. 0. 0. 0. 0. 0. 0. 0. 0. 0. 0. 0. 0. 0. 0. 0. 0. 0.\n",
      " 0. 0. 0. 0. 0. 0. 0. 0. 0. 1. 0. 1. 0. 0. 0. 0. 0. 0. 0. 0. 0. 0. 0. 0.\n",
      " 0. 0. 0. 0. 0. 0. 0. 0. 0. 0. 0. 0. 0. 0. 0. 0. 0. 0. 0. 0. 0. 0. 0. 0.\n",
      " 0. 0. 0. 0. 0. 0. 0. 0. 0. 0. 0. 0. 0. 0. 0. 0. 0. 0. 0. 1. 1. 0. 0. 0.\n",
      " 0. 1. 0. 0. 0. 0. 0. 0. 0. 1. 0. 0. 0. 1. 0. 0. 0. 0. 0. 0. 0. 0. 0. 0.\n",
      " 0. 0. 0. 0. 0. 0. 0. 0. 0. 0. 0. 0. 0. 0. 0. 0. 0. 0. 0. 0. 0. 0. 0. 0.\n",
      " 0. 0. 0. 0. 0. 0. 0. 0. 0. 0. 0. 0. 0. 0. 0. 0. 0. 0. 0. 0. 0. 0. 0. 0.\n",
      " 0. 0. 0. 0. 0. 0. 0. 0. 0. 0. 1. 0. 1. 0. 0. 0. 0. 0. 0. 0. 0. 0. 0. 0.\n",
      " 0. 0. 0. 0. 0. 0. 0. 0. 0. 0. 0. 0. 0. 0.]\n",
      "14.0\n"
     ]
    }
   ],
   "source": [
    "m = np.zeros(( len(a), len(wordindex)))\n",
    "\n",
    "print(m.shape)\n",
    "print(len(wordindex), len(a))\n",
    "for w in wordindex.keys():\n",
    "    for j in range(len(a)):\n",
    "        i = wordindex[w]\n",
    "        m[j][i] = a[j].count(w)\n",
    "print(m[0])\n",
    "print(sum(m[0]))"
   ]
  },
  {
   "cell_type": "markdown",
   "metadata": {},
   "source": [
    "Найдите косинусное расстояние от предложения в самой первой строке (In comparison to dogs, cats have not undergone...) до всех остальных с помощью функции scipy.spatial.distance.cosine. Какие номера у двух предложений, ближайших к нему по этому расстоянию (строки нумеруются с нуля)? Эти два числа и будут ответами на задание. Само предложение (In comparison to dogs, cats have not undergone... ) имеет индекс 0."
   ]
  },
  {
   "cell_type": "code",
   "execution_count": 6,
   "metadata": {},
   "outputs": [
    {
     "name": "stdout",
     "output_type": "stream",
     "text": [
      "{0.9527544408738466: 1, 0.8644738145642124: 2, 0.8951715163278082: 3, 0.7770887149698589: 4, 0.9402385695332803: 5, 0.7327387580875756: 6, 0.9258750683338899: 7, 0.8842724875284311: 8, 0.9055088817476932: 9, 0.8328165362273942: 10, 0.8804771390665607: 11, 0.8396432548525454: 12, 0.8703592552895671: 13, 0.8740118423302576: 14, 0.9442721787424647: 18, 0.8406361854220809: 16, 0.956644501523794: 17, 0.8885443574849294: 19, 0.8427572744917122: 20, 0.8250364469440588: 21}\n",
      "6 4\n",
      "['in', 'one', '', 'people', 'deliberately', 'tamed', 'cats', 'in', 'a', 'process', 'of', 'artificial', 'selection', '', 'as', 'they', 'were', 'useful', 'predators', 'of', 'vermin', '', ''] ['domestic', 'cats', 'are', 'similar', 'in', 'size', 'to', 'the', 'other', 'members', 'of', 'the', 'genus', 'felis', '', 'typically', 'weighing', 'between', '', '', 'and', '', '', 'kg', '', '', '', '', '', 'and', '', '', '', '', '', 'lb', '', '', '']\n"
     ]
    }
   ],
   "source": [
    "from scipy.spatial import distance\n",
    "distance.cosine([1, 0, 0], [0, 1, 0])\n",
    "temp = {}\n",
    "for i in range(1, len(m)):\n",
    "    #print(\"i = \", i, distance.cosine(m[0], m[i]))\n",
    "    temp[distance.cosine(m[0], m[i])] = i\n",
    "print(temp)\n",
    "q = list(temp.keys())\n",
    "q.sort()\n",
    "print(temp[q[0]], temp[q[1]])\n",
    "print(a[4], a[6])\n",
    "\n"
   ]
  },
  {
   "cell_type": "code",
   "execution_count": null,
   "metadata": {},
   "outputs": [],
   "source": []
  }
 ],
 "metadata": {
  "kernelspec": {
   "display_name": "Python 3",
   "language": "python",
   "name": "python3"
  },
  "language_info": {
   "codemirror_mode": {
    "name": "ipython",
    "version": 3
   },
   "file_extension": ".py",
   "mimetype": "text/x-python",
   "name": "python",
   "nbconvert_exporter": "python",
   "pygments_lexer": "ipython3",
   "version": "3.7.0"
  }
 },
 "nbformat": 4,
 "nbformat_minor": 2
}
